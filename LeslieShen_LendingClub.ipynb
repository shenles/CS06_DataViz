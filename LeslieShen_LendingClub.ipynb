{
  "nbformat": 4,
  "nbformat_minor": 0,
  "metadata": {
    "colab": {
      "name": "LeslieShen_LendingClub.ipynb",
      "provenance": [],
      "collapsed_sections": [],
      "authorship_tag": "ABX9TyOI02CmeKvDa0+JSBWCA1of",
      "include_colab_link": true
    },
    "kernelspec": {
      "name": "python3",
      "display_name": "Python 3"
    }
  },
  "cells": [
    {
      "cell_type": "markdown",
      "metadata": {
        "id": "view-in-github",
        "colab_type": "text"
      },
      "source": [
        "<a href=\"https://colab.research.google.com/github/shenles/CS06_DataViz/blob/master/LeslieShen_LendingClub.ipynb\" target=\"_parent\"><img src=\"https://colab.research.google.com/assets/colab-badge.svg\" alt=\"Open In Colab\"/></a>"
      ]
    },
    {
      "cell_type": "code",
      "metadata": {
        "id": "kChDMUTK6o6K",
        "colab_type": "code",
        "outputId": "9c80c44b-b42a-4c35-a1f5-8ba6b1c6f924",
        "colab": {
          "base_uri": "https://localhost:8080/",
          "height": 88
        }
      },
      "source": [
        "import pandas as pd\n",
        "import numpy as np\n",
        "import matplotlib.pyplot as plt\n",
        "import seaborn as sns\n",
        "from google.colab import drive\n",
        "\n",
        "drive.mount('/content/drive')"
      ],
      "execution_count": 0,
      "outputs": [
        {
          "output_type": "stream",
          "text": [
            "Drive already mounted at /content/drive; to attempt to forcibly remount, call drive.mount(\"/content/drive\", force_remount=True).\n"
          ],
          "name": "stdout"
        },
        {
          "output_type": "stream",
          "text": [
            "/usr/local/lib/python3.6/dist-packages/statsmodels/tools/_testing.py:19: FutureWarning: pandas.util.testing is deprecated. Use the functions in the public API at pandas.testing instead.\n",
            "  import pandas.util.testing as tm\n"
          ],
          "name": "stderr"
        }
      ]
    },
    {
      "cell_type": "code",
      "metadata": {
        "id": "X0XT4DyXLowQ",
        "colab_type": "code",
        "outputId": "ae68d048-016b-458a-bded-fa5480db67b6",
        "colab": {
          "base_uri": "https://localhost:8080/",
          "height": 71
        }
      },
      "source": [
        "read_in_data = pd.read_csv('/content/drive/My Drive/loan.csv')\n",
        "all_lc_data = read_in_data.copy(deep=True)"
      ],
      "execution_count": 0,
      "outputs": [
        {
          "output_type": "stream",
          "text": [
            "/usr/local/lib/python3.6/dist-packages/IPython/core/interactiveshell.py:2718: DtypeWarning: Columns (19,47,55,112,123,124,125,128,129,130,133,139,140,141) have mixed types.Specify dtype option on import or set low_memory=False.\n",
            "  interactivity=interactivity, compiler=compiler, result=result)\n"
          ],
          "name": "stderr"
        }
      ]
    },
    {
      "cell_type": "code",
      "metadata": {
        "id": "mtkluCGrNAoU",
        "colab_type": "code",
        "colab": {}
      },
      "source": [
        "drive.flush_and_unmount()"
      ],
      "execution_count": 0,
      "outputs": []
    },
    {
      "cell_type": "code",
      "metadata": {
        "id": "k-UdE4gSNIee",
        "colab_type": "code",
        "outputId": "73804c36-6280-4c20-dba4-87e6f4ed1efc",
        "colab": {
          "base_uri": "https://localhost:8080/",
          "height": 34
        }
      },
      "source": [
        "# show how many rows and columns\n",
        "all_lc_data.shape"
      ],
      "execution_count": 0,
      "outputs": [
        {
          "output_type": "execute_result",
          "data": {
            "text/plain": [
              "(2260668, 145)"
            ]
          },
          "metadata": {
            "tags": []
          },
          "execution_count": 5
        }
      ]
    },
    {
      "cell_type": "code",
      "metadata": {
        "id": "UldeMBHKNbGp",
        "colab_type": "code",
        "outputId": "2577d1de-f1c9-4dcd-de8c-d6f5c969eb8b",
        "colab": {
          "base_uri": "https://localhost:8080/",
          "height": 153
        }
      },
      "source": [
        "all_lc_data.columns"
      ],
      "execution_count": 0,
      "outputs": [
        {
          "output_type": "execute_result",
          "data": {
            "text/plain": [
              "Index(['id', 'member_id', 'loan_amnt', 'funded_amnt', 'funded_amnt_inv',\n",
              "       'term', 'int_rate', 'installment', 'grade', 'sub_grade',\n",
              "       ...\n",
              "       'hardship_payoff_balance_amount', 'hardship_last_payment_amount',\n",
              "       'disbursement_method', 'debt_settlement_flag',\n",
              "       'debt_settlement_flag_date', 'settlement_status', 'settlement_date',\n",
              "       'settlement_amount', 'settlement_percentage', 'settlement_term'],\n",
              "      dtype='object', length=145)"
            ]
          },
          "metadata": {
            "tags": []
          },
          "execution_count": 6
        }
      ]
    },
    {
      "cell_type": "code",
      "metadata": {
        "id": "ot6CbKEqUCu0",
        "colab_type": "code",
        "outputId": "a6c2613a-6bd3-4e89-c21a-640260b04e7e",
        "colab": {
          "base_uri": "https://localhost:8080/",
          "height": 1000
        }
      },
      "source": [
        "# find percentage of null values in each column\n",
        "empty_columns = []\n",
        "\n",
        "for col in all_lc_data.columns:\n",
        "  null_count = all_lc_data[col].isna().sum()\n",
        "  null_percentage = (null_count / len(all_lc_data[col])) * 100\n",
        "  # keep track of >90% empty columns in a list\n",
        "  if null_percentage >= 90.0:\n",
        "    empty_columns.append(col)\n",
        "  print(col, null_percentage)"
      ],
      "execution_count": 0,
      "outputs": [
        {
          "output_type": "stream",
          "text": [
            "id 100.0\n",
            "member_id 100.0\n",
            "loan_amnt 0.0\n",
            "funded_amnt 0.0\n",
            "funded_amnt_inv 0.0\n",
            "term 0.0\n",
            "int_rate 0.0\n",
            "installment 0.0\n",
            "grade 0.0\n",
            "sub_grade 0.0\n",
            "emp_title 7.385825782467837\n",
            "emp_length 6.498388971755251\n",
            "home_ownership 0.0\n",
            "annual_inc 0.00017693885170224022\n",
            "verification_status 0.0\n",
            "issue_d 0.0\n",
            "loan_status 0.0\n",
            "pymnt_plan 0.0\n",
            "url 100.0\n",
            "desc 94.42346244561341\n",
            "purpose 0.0\n",
            "title 1.0317746789886884\n",
            "zip_code 4.4234712925560055e-05\n",
            "addr_state 0.0\n",
            "dti 0.07568559381563325\n",
            "delinq_2yrs 0.0012828066748412415\n",
            "earliest_cr_line 0.0012828066748412415\n",
            "inq_last_6mths 0.0013270413877668017\n",
            "mths_since_last_delinq 51.246003393687175\n",
            "mths_since_last_record 84.11283744450755\n",
            "open_acc 0.0012828066748412415\n",
            "pub_rec 0.0012828066748412415\n",
            "revol_bal 0.0\n",
            "revol_util 0.07971095269185922\n",
            "total_acc 0.0012828066748412415\n",
            "initial_list_status 0.0\n",
            "out_prncp 0.0\n",
            "out_prncp_inv 0.0\n",
            "total_pymnt 0.0\n",
            "total_pymnt_inv 0.0\n",
            "total_rec_prncp 0.0\n",
            "total_rec_int 0.0\n",
            "total_rec_late_fee 0.0\n",
            "recoveries 0.0\n",
            "collection_recovery_fee 0.0\n",
            "last_pymnt_d 0.1073134135574087\n",
            "last_pymnt_amnt 0.0\n",
            "next_pymnt_d 57.66468141275056\n",
            "last_credit_pull_d 0.0032291340435658842\n",
            "collections_12_mths_ex_med 0.006414033374206208\n",
            "mths_since_last_major_derog 74.30958460065786\n",
            "policy_code 0.0\n",
            "application_type 0.0\n",
            "annual_inc_joint 94.66042780275565\n",
            "dti_joint 94.66060474160734\n",
            "verification_status_joint 94.88071667312494\n",
            "acc_now_delinq 0.0012828066748412415\n",
            "tot_coll_amt 3.1086386855566586\n",
            "tot_cur_bal 3.1086386855566586\n",
            "open_acc_6m 38.31301190621533\n",
            "open_act_il 38.312967671502406\n",
            "open_il_12m 38.312967671502406\n",
            "open_il_24m 38.312967671502406\n",
            "mths_since_rcnt_il 40.25022692407731\n",
            "total_bal_il 38.312967671502406\n",
            "il_util 47.28027291048487\n",
            "open_rv_12m 38.312967671502406\n",
            "open_rv_24m 38.312967671502406\n",
            "max_bal_bc 38.312967671502406\n",
            "all_util 38.32265507363311\n",
            "total_rev_hi_lim 3.1086386855566586\n",
            "inq_fi 38.312967671502406\n",
            "total_cu_tl 38.31301190621533\n",
            "inq_last_12m 38.31301190621533\n",
            "acc_open_past_24mths 2.2130626876657695\n",
            "avg_cur_bal 3.1117351154614474\n",
            "bc_open_to_buy 3.314728213076843\n",
            "bc_util 3.3649788469602786\n",
            "chargeoff_within_12_mths 0.006414033374206208\n",
            "delinq_amnt 0.0012828066748412415\n",
            "mo_sin_old_il_acct 6.151765761270562\n",
            "mo_sin_old_rev_tl_op 3.108682920269584\n",
            "mo_sin_rcnt_rev_tl_op 3.108682920269584\n",
            "mo_sin_rcnt_tl 3.1086386855566586\n",
            "mort_acc 2.2130626876657695\n",
            "mths_since_recent_bc 3.247358745291215\n",
            "mths_since_recent_bc_dlq 77.01117545787352\n",
            "mths_since_recent_inq 13.068482413162835\n",
            "mths_since_recent_revol_delinq 67.25043217314528\n",
            "num_accts_ever_120_pd 3.1086386855566586\n",
            "num_actv_bc_tl 3.1086386855566586\n",
            "num_actv_rev_tl 3.1086386855566586\n",
            "num_bc_sats 2.591711830308564\n",
            "num_bc_tl 3.1086386855566586\n",
            "num_il_tl 3.1086386855566586\n",
            "num_op_rev_tl 3.1086386855566586\n",
            "num_rev_accts 3.108682920269584\n",
            "num_rev_tl_bal_gt_0 3.1086386855566586\n",
            "num_sats 2.591711830308564\n",
            "num_tl_120dpd_2m 6.796973284002782\n",
            "num_tl_30dpd 3.1086386855566586\n",
            "num_tl_90g_dpd_24m 3.1086386855566586\n",
            "num_tl_op_past_12m 3.1086386855566586\n",
            "pct_tl_nvr_dlq 3.11549506606012\n",
            "percent_bc_gt_75 3.334368425615791\n",
            "pub_rec_bankruptcies 0.06038038314338948\n",
            "tax_liens 0.0046446448571838056\n",
            "tot_hi_cred_lim 3.1086386855566586\n",
            "total_bal_ex_mort 2.2130626876657695\n",
            "total_bc_limit 2.2130626876657695\n",
            "total_il_high_credit_limit 3.1086386855566586\n",
            "revol_bal_joint 95.221766309781\n",
            "sec_app_earliest_cr_line 95.22172207506809\n",
            "sec_app_inq_last_6mths 95.22172207506809\n",
            "sec_app_mort_acc 95.22172207506809\n",
            "sec_app_open_acc 95.22172207506809\n",
            "sec_app_revol_util 95.30298124271232\n",
            "sec_app_open_act_il 95.22172207506809\n",
            "sec_app_num_rev_accts 95.22172207506809\n",
            "sec_app_chargeoff_within_12_mths 95.22172207506809\n",
            "sec_app_collections_12_mths_ex_med 95.22172207506809\n",
            "sec_app_mths_since_last_major_derog 98.41011594802951\n",
            "hardship_flag 0.0\n",
            "hardship_type 99.53053699172104\n",
            "hardship_reason 99.53053699172104\n",
            "hardship_status 99.53053699172104\n",
            "deferral_term 99.53053699172104\n",
            "hardship_amount 99.53053699172104\n",
            "hardship_start_date 99.53053699172104\n",
            "hardship_end_date 99.53053699172104\n",
            "payment_plan_start_date 99.53053699172104\n",
            "hardship_length 99.53053699172104\n",
            "hardship_dpd 99.53053699172104\n",
            "hardship_loan_status 99.53053699172104\n",
            "orig_projected_additional_accrued_interest 99.62727830888923\n",
            "hardship_payoff_balance_amount 99.53053699172104\n",
            "hardship_last_payment_amount 99.53053699172104\n",
            "disbursement_method 0.0\n",
            "debt_settlement_flag 0.0\n",
            "debt_settlement_flag_date 98.53777732953269\n",
            "settlement_status 98.53777732953269\n",
            "settlement_date 98.53777732953269\n",
            "settlement_amount 98.53777732953269\n",
            "settlement_percentage 98.53777732953269\n",
            "settlement_term 98.53777732953269\n"
          ],
          "name": "stdout"
        }
      ]
    },
    {
      "cell_type": "code",
      "metadata": {
        "id": "u3r0PlM0Wegr",
        "colab_type": "code",
        "outputId": "ca1c2e53-d622-421d-b488-cbd8ba54d961",
        "colab": {
          "base_uri": "https://localhost:8080/",
          "height": 71
        }
      },
      "source": [
        "# we can drop or simply ignore these columns\n",
        "print(len(empty_columns))\n",
        "print(empty_columns)"
      ],
      "execution_count": 0,
      "outputs": [
        {
          "output_type": "stream",
          "text": [
            "38\n",
            "['id', 'member_id', 'url', 'desc', 'annual_inc_joint', 'dti_joint', 'verification_status_joint', 'revol_bal_joint', 'sec_app_earliest_cr_line', 'sec_app_inq_last_6mths', 'sec_app_mort_acc', 'sec_app_open_acc', 'sec_app_revol_util', 'sec_app_open_act_il', 'sec_app_num_rev_accts', 'sec_app_chargeoff_within_12_mths', 'sec_app_collections_12_mths_ex_med', 'sec_app_mths_since_last_major_derog', 'hardship_type', 'hardship_reason', 'hardship_status', 'deferral_term', 'hardship_amount', 'hardship_start_date', 'hardship_end_date', 'payment_plan_start_date', 'hardship_length', 'hardship_dpd', 'hardship_loan_status', 'orig_projected_additional_accrued_interest', 'hardship_payoff_balance_amount', 'hardship_last_payment_amount', 'debt_settlement_flag_date', 'settlement_status', 'settlement_date', 'settlement_amount', 'settlement_percentage', 'settlement_term']\n"
          ],
          "name": "stdout"
        }
      ]
    },
    {
      "cell_type": "code",
      "metadata": {
        "id": "alxpvutdd8sc",
        "colab_type": "code",
        "outputId": "e2c229f8-8671-41aa-ef90-5601cf822b01",
        "colab": {
          "base_uri": "https://localhost:8080/",
          "height": 34
        }
      },
      "source": [
        "cols_to_drop = empty_columns[2:]\n",
        "all_lc_data.drop(cols_to_drop, axis=1, inplace=True)\n",
        "all_lc_data.shape"
      ],
      "execution_count": 0,
      "outputs": [
        {
          "output_type": "execute_result",
          "data": {
            "text/plain": [
              "(2260668, 109)"
            ]
          },
          "metadata": {
            "tags": []
          },
          "execution_count": 7
        }
      ]
    },
    {
      "cell_type": "code",
      "metadata": {
        "id": "VPRc53NylyZX",
        "colab_type": "code",
        "outputId": "01732df6-2a99-4022-a58e-8cc223cd7542",
        "colab": {
          "base_uri": "https://localhost:8080/",
          "height": 338
        }
      },
      "source": [
        "all_lc_data.head()"
      ],
      "execution_count": 0,
      "outputs": [
        {
          "output_type": "execute_result",
          "data": {
            "text/html": [
              "<div>\n",
              "<style scoped>\n",
              "    .dataframe tbody tr th:only-of-type {\n",
              "        vertical-align: middle;\n",
              "    }\n",
              "\n",
              "    .dataframe tbody tr th {\n",
              "        vertical-align: top;\n",
              "    }\n",
              "\n",
              "    .dataframe thead th {\n",
              "        text-align: right;\n",
              "    }\n",
              "</style>\n",
              "<table border=\"1\" class=\"dataframe\">\n",
              "  <thead>\n",
              "    <tr style=\"text-align: right;\">\n",
              "      <th></th>\n",
              "      <th>id</th>\n",
              "      <th>member_id</th>\n",
              "      <th>loan_amnt</th>\n",
              "      <th>funded_amnt</th>\n",
              "      <th>funded_amnt_inv</th>\n",
              "      <th>term</th>\n",
              "      <th>int_rate</th>\n",
              "      <th>installment</th>\n",
              "      <th>grade</th>\n",
              "      <th>sub_grade</th>\n",
              "      <th>emp_title</th>\n",
              "      <th>emp_length</th>\n",
              "      <th>home_ownership</th>\n",
              "      <th>annual_inc</th>\n",
              "      <th>verification_status</th>\n",
              "      <th>issue_d</th>\n",
              "      <th>loan_status</th>\n",
              "      <th>pymnt_plan</th>\n",
              "      <th>purpose</th>\n",
              "      <th>title</th>\n",
              "      <th>zip_code</th>\n",
              "      <th>addr_state</th>\n",
              "      <th>dti</th>\n",
              "      <th>delinq_2yrs</th>\n",
              "      <th>earliest_cr_line</th>\n",
              "      <th>inq_last_6mths</th>\n",
              "      <th>mths_since_last_delinq</th>\n",
              "      <th>mths_since_last_record</th>\n",
              "      <th>open_acc</th>\n",
              "      <th>pub_rec</th>\n",
              "      <th>revol_bal</th>\n",
              "      <th>revol_util</th>\n",
              "      <th>total_acc</th>\n",
              "      <th>initial_list_status</th>\n",
              "      <th>out_prncp</th>\n",
              "      <th>out_prncp_inv</th>\n",
              "      <th>total_pymnt</th>\n",
              "      <th>total_pymnt_inv</th>\n",
              "      <th>total_rec_prncp</th>\n",
              "      <th>total_rec_int</th>\n",
              "      <th>...</th>\n",
              "      <th>acc_open_past_24mths</th>\n",
              "      <th>avg_cur_bal</th>\n",
              "      <th>bc_open_to_buy</th>\n",
              "      <th>bc_util</th>\n",
              "      <th>chargeoff_within_12_mths</th>\n",
              "      <th>delinq_amnt</th>\n",
              "      <th>mo_sin_old_il_acct</th>\n",
              "      <th>mo_sin_old_rev_tl_op</th>\n",
              "      <th>mo_sin_rcnt_rev_tl_op</th>\n",
              "      <th>mo_sin_rcnt_tl</th>\n",
              "      <th>mort_acc</th>\n",
              "      <th>mths_since_recent_bc</th>\n",
              "      <th>mths_since_recent_bc_dlq</th>\n",
              "      <th>mths_since_recent_inq</th>\n",
              "      <th>mths_since_recent_revol_delinq</th>\n",
              "      <th>num_accts_ever_120_pd</th>\n",
              "      <th>num_actv_bc_tl</th>\n",
              "      <th>num_actv_rev_tl</th>\n",
              "      <th>num_bc_sats</th>\n",
              "      <th>num_bc_tl</th>\n",
              "      <th>num_il_tl</th>\n",
              "      <th>num_op_rev_tl</th>\n",
              "      <th>num_rev_accts</th>\n",
              "      <th>num_rev_tl_bal_gt_0</th>\n",
              "      <th>num_sats</th>\n",
              "      <th>num_tl_120dpd_2m</th>\n",
              "      <th>num_tl_30dpd</th>\n",
              "      <th>num_tl_90g_dpd_24m</th>\n",
              "      <th>num_tl_op_past_12m</th>\n",
              "      <th>pct_tl_nvr_dlq</th>\n",
              "      <th>percent_bc_gt_75</th>\n",
              "      <th>pub_rec_bankruptcies</th>\n",
              "      <th>tax_liens</th>\n",
              "      <th>tot_hi_cred_lim</th>\n",
              "      <th>total_bal_ex_mort</th>\n",
              "      <th>total_bc_limit</th>\n",
              "      <th>total_il_high_credit_limit</th>\n",
              "      <th>hardship_flag</th>\n",
              "      <th>disbursement_method</th>\n",
              "      <th>debt_settlement_flag</th>\n",
              "    </tr>\n",
              "  </thead>\n",
              "  <tbody>\n",
              "    <tr>\n",
              "      <th>0</th>\n",
              "      <td>NaN</td>\n",
              "      <td>NaN</td>\n",
              "      <td>2500</td>\n",
              "      <td>2500</td>\n",
              "      <td>2500.0</td>\n",
              "      <td>36 months</td>\n",
              "      <td>13.56</td>\n",
              "      <td>84.92</td>\n",
              "      <td>C</td>\n",
              "      <td>C1</td>\n",
              "      <td>Chef</td>\n",
              "      <td>10+ years</td>\n",
              "      <td>RENT</td>\n",
              "      <td>55000.0</td>\n",
              "      <td>Not Verified</td>\n",
              "      <td>Dec-2018</td>\n",
              "      <td>Current</td>\n",
              "      <td>n</td>\n",
              "      <td>debt_consolidation</td>\n",
              "      <td>Debt consolidation</td>\n",
              "      <td>109xx</td>\n",
              "      <td>NY</td>\n",
              "      <td>18.24</td>\n",
              "      <td>0.0</td>\n",
              "      <td>Apr-2001</td>\n",
              "      <td>1.0</td>\n",
              "      <td>NaN</td>\n",
              "      <td>45.0</td>\n",
              "      <td>9.0</td>\n",
              "      <td>1.0</td>\n",
              "      <td>4341</td>\n",
              "      <td>10.3</td>\n",
              "      <td>34.0</td>\n",
              "      <td>w</td>\n",
              "      <td>2386.02</td>\n",
              "      <td>2386.02</td>\n",
              "      <td>167.02</td>\n",
              "      <td>167.02</td>\n",
              "      <td>113.98</td>\n",
              "      <td>53.04</td>\n",
              "      <td>...</td>\n",
              "      <td>9.0</td>\n",
              "      <td>1878.0</td>\n",
              "      <td>34360.0</td>\n",
              "      <td>5.9</td>\n",
              "      <td>0.0</td>\n",
              "      <td>0.0</td>\n",
              "      <td>140.0</td>\n",
              "      <td>212.0</td>\n",
              "      <td>1.0</td>\n",
              "      <td>1.0</td>\n",
              "      <td>0.0</td>\n",
              "      <td>1.0</td>\n",
              "      <td>NaN</td>\n",
              "      <td>2.0</td>\n",
              "      <td>NaN</td>\n",
              "      <td>0.0</td>\n",
              "      <td>2.0</td>\n",
              "      <td>5.0</td>\n",
              "      <td>3.0</td>\n",
              "      <td>3.0</td>\n",
              "      <td>16.0</td>\n",
              "      <td>7.0</td>\n",
              "      <td>18.0</td>\n",
              "      <td>5.0</td>\n",
              "      <td>9.0</td>\n",
              "      <td>0.0</td>\n",
              "      <td>0.0</td>\n",
              "      <td>0.0</td>\n",
              "      <td>3.0</td>\n",
              "      <td>100.0</td>\n",
              "      <td>0.0</td>\n",
              "      <td>1.0</td>\n",
              "      <td>0.0</td>\n",
              "      <td>60124.0</td>\n",
              "      <td>16901.0</td>\n",
              "      <td>36500.0</td>\n",
              "      <td>18124.0</td>\n",
              "      <td>N</td>\n",
              "      <td>Cash</td>\n",
              "      <td>N</td>\n",
              "    </tr>\n",
              "    <tr>\n",
              "      <th>1</th>\n",
              "      <td>NaN</td>\n",
              "      <td>NaN</td>\n",
              "      <td>30000</td>\n",
              "      <td>30000</td>\n",
              "      <td>30000.0</td>\n",
              "      <td>60 months</td>\n",
              "      <td>18.94</td>\n",
              "      <td>777.23</td>\n",
              "      <td>D</td>\n",
              "      <td>D2</td>\n",
              "      <td>Postmaster</td>\n",
              "      <td>10+ years</td>\n",
              "      <td>MORTGAGE</td>\n",
              "      <td>90000.0</td>\n",
              "      <td>Source Verified</td>\n",
              "      <td>Dec-2018</td>\n",
              "      <td>Current</td>\n",
              "      <td>n</td>\n",
              "      <td>debt_consolidation</td>\n",
              "      <td>Debt consolidation</td>\n",
              "      <td>713xx</td>\n",
              "      <td>LA</td>\n",
              "      <td>26.52</td>\n",
              "      <td>0.0</td>\n",
              "      <td>Jun-1987</td>\n",
              "      <td>0.0</td>\n",
              "      <td>71.0</td>\n",
              "      <td>75.0</td>\n",
              "      <td>13.0</td>\n",
              "      <td>1.0</td>\n",
              "      <td>12315</td>\n",
              "      <td>24.2</td>\n",
              "      <td>44.0</td>\n",
              "      <td>w</td>\n",
              "      <td>29387.75</td>\n",
              "      <td>29387.75</td>\n",
              "      <td>1507.11</td>\n",
              "      <td>1507.11</td>\n",
              "      <td>612.25</td>\n",
              "      <td>894.86</td>\n",
              "      <td>...</td>\n",
              "      <td>10.0</td>\n",
              "      <td>24763.0</td>\n",
              "      <td>13761.0</td>\n",
              "      <td>8.3</td>\n",
              "      <td>0.0</td>\n",
              "      <td>0.0</td>\n",
              "      <td>163.0</td>\n",
              "      <td>378.0</td>\n",
              "      <td>4.0</td>\n",
              "      <td>3.0</td>\n",
              "      <td>3.0</td>\n",
              "      <td>4.0</td>\n",
              "      <td>NaN</td>\n",
              "      <td>4.0</td>\n",
              "      <td>NaN</td>\n",
              "      <td>0.0</td>\n",
              "      <td>2.0</td>\n",
              "      <td>4.0</td>\n",
              "      <td>4.0</td>\n",
              "      <td>9.0</td>\n",
              "      <td>27.0</td>\n",
              "      <td>8.0</td>\n",
              "      <td>14.0</td>\n",
              "      <td>4.0</td>\n",
              "      <td>13.0</td>\n",
              "      <td>0.0</td>\n",
              "      <td>0.0</td>\n",
              "      <td>0.0</td>\n",
              "      <td>6.0</td>\n",
              "      <td>95.0</td>\n",
              "      <td>0.0</td>\n",
              "      <td>1.0</td>\n",
              "      <td>0.0</td>\n",
              "      <td>372872.0</td>\n",
              "      <td>99468.0</td>\n",
              "      <td>15000.0</td>\n",
              "      <td>94072.0</td>\n",
              "      <td>N</td>\n",
              "      <td>Cash</td>\n",
              "      <td>N</td>\n",
              "    </tr>\n",
              "    <tr>\n",
              "      <th>2</th>\n",
              "      <td>NaN</td>\n",
              "      <td>NaN</td>\n",
              "      <td>5000</td>\n",
              "      <td>5000</td>\n",
              "      <td>5000.0</td>\n",
              "      <td>36 months</td>\n",
              "      <td>17.97</td>\n",
              "      <td>180.69</td>\n",
              "      <td>D</td>\n",
              "      <td>D1</td>\n",
              "      <td>Administrative</td>\n",
              "      <td>6 years</td>\n",
              "      <td>MORTGAGE</td>\n",
              "      <td>59280.0</td>\n",
              "      <td>Source Verified</td>\n",
              "      <td>Dec-2018</td>\n",
              "      <td>Current</td>\n",
              "      <td>n</td>\n",
              "      <td>debt_consolidation</td>\n",
              "      <td>Debt consolidation</td>\n",
              "      <td>490xx</td>\n",
              "      <td>MI</td>\n",
              "      <td>10.51</td>\n",
              "      <td>0.0</td>\n",
              "      <td>Apr-2011</td>\n",
              "      <td>0.0</td>\n",
              "      <td>NaN</td>\n",
              "      <td>NaN</td>\n",
              "      <td>8.0</td>\n",
              "      <td>0.0</td>\n",
              "      <td>4599</td>\n",
              "      <td>19.1</td>\n",
              "      <td>13.0</td>\n",
              "      <td>w</td>\n",
              "      <td>4787.21</td>\n",
              "      <td>4787.21</td>\n",
              "      <td>353.89</td>\n",
              "      <td>353.89</td>\n",
              "      <td>212.79</td>\n",
              "      <td>141.10</td>\n",
              "      <td>...</td>\n",
              "      <td>4.0</td>\n",
              "      <td>18383.0</td>\n",
              "      <td>13800.0</td>\n",
              "      <td>0.0</td>\n",
              "      <td>0.0</td>\n",
              "      <td>0.0</td>\n",
              "      <td>87.0</td>\n",
              "      <td>92.0</td>\n",
              "      <td>15.0</td>\n",
              "      <td>14.0</td>\n",
              "      <td>2.0</td>\n",
              "      <td>77.0</td>\n",
              "      <td>NaN</td>\n",
              "      <td>14.0</td>\n",
              "      <td>NaN</td>\n",
              "      <td>0.0</td>\n",
              "      <td>0.0</td>\n",
              "      <td>3.0</td>\n",
              "      <td>3.0</td>\n",
              "      <td>3.0</td>\n",
              "      <td>4.0</td>\n",
              "      <td>6.0</td>\n",
              "      <td>7.0</td>\n",
              "      <td>3.0</td>\n",
              "      <td>8.0</td>\n",
              "      <td>0.0</td>\n",
              "      <td>0.0</td>\n",
              "      <td>0.0</td>\n",
              "      <td>0.0</td>\n",
              "      <td>100.0</td>\n",
              "      <td>0.0</td>\n",
              "      <td>0.0</td>\n",
              "      <td>0.0</td>\n",
              "      <td>136927.0</td>\n",
              "      <td>11749.0</td>\n",
              "      <td>13800.0</td>\n",
              "      <td>10000.0</td>\n",
              "      <td>N</td>\n",
              "      <td>Cash</td>\n",
              "      <td>N</td>\n",
              "    </tr>\n",
              "    <tr>\n",
              "      <th>3</th>\n",
              "      <td>NaN</td>\n",
              "      <td>NaN</td>\n",
              "      <td>4000</td>\n",
              "      <td>4000</td>\n",
              "      <td>4000.0</td>\n",
              "      <td>36 months</td>\n",
              "      <td>18.94</td>\n",
              "      <td>146.51</td>\n",
              "      <td>D</td>\n",
              "      <td>D2</td>\n",
              "      <td>IT Supervisor</td>\n",
              "      <td>10+ years</td>\n",
              "      <td>MORTGAGE</td>\n",
              "      <td>92000.0</td>\n",
              "      <td>Source Verified</td>\n",
              "      <td>Dec-2018</td>\n",
              "      <td>Current</td>\n",
              "      <td>n</td>\n",
              "      <td>debt_consolidation</td>\n",
              "      <td>Debt consolidation</td>\n",
              "      <td>985xx</td>\n",
              "      <td>WA</td>\n",
              "      <td>16.74</td>\n",
              "      <td>0.0</td>\n",
              "      <td>Feb-2006</td>\n",
              "      <td>0.0</td>\n",
              "      <td>NaN</td>\n",
              "      <td>NaN</td>\n",
              "      <td>10.0</td>\n",
              "      <td>0.0</td>\n",
              "      <td>5468</td>\n",
              "      <td>78.1</td>\n",
              "      <td>13.0</td>\n",
              "      <td>w</td>\n",
              "      <td>3831.93</td>\n",
              "      <td>3831.93</td>\n",
              "      <td>286.71</td>\n",
              "      <td>286.71</td>\n",
              "      <td>168.07</td>\n",
              "      <td>118.64</td>\n",
              "      <td>...</td>\n",
              "      <td>5.0</td>\n",
              "      <td>30505.0</td>\n",
              "      <td>1239.0</td>\n",
              "      <td>75.2</td>\n",
              "      <td>0.0</td>\n",
              "      <td>0.0</td>\n",
              "      <td>62.0</td>\n",
              "      <td>154.0</td>\n",
              "      <td>64.0</td>\n",
              "      <td>5.0</td>\n",
              "      <td>3.0</td>\n",
              "      <td>64.0</td>\n",
              "      <td>NaN</td>\n",
              "      <td>5.0</td>\n",
              "      <td>NaN</td>\n",
              "      <td>0.0</td>\n",
              "      <td>1.0</td>\n",
              "      <td>2.0</td>\n",
              "      <td>1.0</td>\n",
              "      <td>2.0</td>\n",
              "      <td>7.0</td>\n",
              "      <td>2.0</td>\n",
              "      <td>3.0</td>\n",
              "      <td>2.0</td>\n",
              "      <td>10.0</td>\n",
              "      <td>0.0</td>\n",
              "      <td>0.0</td>\n",
              "      <td>0.0</td>\n",
              "      <td>3.0</td>\n",
              "      <td>100.0</td>\n",
              "      <td>100.0</td>\n",
              "      <td>0.0</td>\n",
              "      <td>0.0</td>\n",
              "      <td>385183.0</td>\n",
              "      <td>36151.0</td>\n",
              "      <td>5000.0</td>\n",
              "      <td>44984.0</td>\n",
              "      <td>N</td>\n",
              "      <td>Cash</td>\n",
              "      <td>N</td>\n",
              "    </tr>\n",
              "    <tr>\n",
              "      <th>4</th>\n",
              "      <td>NaN</td>\n",
              "      <td>NaN</td>\n",
              "      <td>30000</td>\n",
              "      <td>30000</td>\n",
              "      <td>30000.0</td>\n",
              "      <td>60 months</td>\n",
              "      <td>16.14</td>\n",
              "      <td>731.78</td>\n",
              "      <td>C</td>\n",
              "      <td>C4</td>\n",
              "      <td>Mechanic</td>\n",
              "      <td>10+ years</td>\n",
              "      <td>MORTGAGE</td>\n",
              "      <td>57250.0</td>\n",
              "      <td>Not Verified</td>\n",
              "      <td>Dec-2018</td>\n",
              "      <td>Current</td>\n",
              "      <td>n</td>\n",
              "      <td>debt_consolidation</td>\n",
              "      <td>Debt consolidation</td>\n",
              "      <td>212xx</td>\n",
              "      <td>MD</td>\n",
              "      <td>26.35</td>\n",
              "      <td>0.0</td>\n",
              "      <td>Dec-2000</td>\n",
              "      <td>0.0</td>\n",
              "      <td>NaN</td>\n",
              "      <td>NaN</td>\n",
              "      <td>12.0</td>\n",
              "      <td>0.0</td>\n",
              "      <td>829</td>\n",
              "      <td>3.6</td>\n",
              "      <td>26.0</td>\n",
              "      <td>w</td>\n",
              "      <td>29339.02</td>\n",
              "      <td>29339.02</td>\n",
              "      <td>1423.21</td>\n",
              "      <td>1423.21</td>\n",
              "      <td>660.98</td>\n",
              "      <td>762.23</td>\n",
              "      <td>...</td>\n",
              "      <td>9.0</td>\n",
              "      <td>9667.0</td>\n",
              "      <td>8471.0</td>\n",
              "      <td>8.9</td>\n",
              "      <td>0.0</td>\n",
              "      <td>0.0</td>\n",
              "      <td>53.0</td>\n",
              "      <td>216.0</td>\n",
              "      <td>2.0</td>\n",
              "      <td>2.0</td>\n",
              "      <td>2.0</td>\n",
              "      <td>2.0</td>\n",
              "      <td>NaN</td>\n",
              "      <td>13.0</td>\n",
              "      <td>NaN</td>\n",
              "      <td>0.0</td>\n",
              "      <td>2.0</td>\n",
              "      <td>2.0</td>\n",
              "      <td>3.0</td>\n",
              "      <td>8.0</td>\n",
              "      <td>9.0</td>\n",
              "      <td>6.0</td>\n",
              "      <td>15.0</td>\n",
              "      <td>2.0</td>\n",
              "      <td>12.0</td>\n",
              "      <td>0.0</td>\n",
              "      <td>0.0</td>\n",
              "      <td>0.0</td>\n",
              "      <td>5.0</td>\n",
              "      <td>92.3</td>\n",
              "      <td>0.0</td>\n",
              "      <td>0.0</td>\n",
              "      <td>0.0</td>\n",
              "      <td>157548.0</td>\n",
              "      <td>29674.0</td>\n",
              "      <td>9300.0</td>\n",
              "      <td>32332.0</td>\n",
              "      <td>N</td>\n",
              "      <td>Cash</td>\n",
              "      <td>N</td>\n",
              "    </tr>\n",
              "  </tbody>\n",
              "</table>\n",
              "<p>5 rows × 109 columns</p>\n",
              "</div>"
            ],
            "text/plain": [
              "   id  member_id  ...  disbursement_method  debt_settlement_flag\n",
              "0 NaN        NaN  ...                 Cash                     N\n",
              "1 NaN        NaN  ...                 Cash                     N\n",
              "2 NaN        NaN  ...                 Cash                     N\n",
              "3 NaN        NaN  ...                 Cash                     N\n",
              "4 NaN        NaN  ...                 Cash                     N\n",
              "\n",
              "[5 rows x 109 columns]"
            ]
          },
          "metadata": {
            "tags": []
          },
          "execution_count": 8
        }
      ]
    },
    {
      "cell_type": "code",
      "metadata": {
        "id": "-hujmGnUpZcV",
        "colab_type": "code",
        "outputId": "d4fa753c-2ddf-434e-bed4-577bccab7d10",
        "colab": {
          "base_uri": "https://localhost:8080/",
          "height": 34
        }
      },
      "source": [
        "all_lc_data['issue_year'] = pd.DatetimeIndex(all_lc_data['issue_d']).year\n",
        "all_lc_data['issue_year'][0]"
      ],
      "execution_count": 0,
      "outputs": [
        {
          "output_type": "execute_result",
          "data": {
            "text/plain": [
              "2018"
            ]
          },
          "metadata": {
            "tags": []
          },
          "execution_count": 13
        }
      ]
    },
    {
      "cell_type": "code",
      "metadata": {
        "id": "bAtoYQ3uuPAJ",
        "colab_type": "code",
        "outputId": "694063bf-787e-4442-fec6-252a5a518404",
        "colab": {
          "base_uri": "https://localhost:8080/",
          "height": 119
        }
      },
      "source": [
        "# isolate the interest rates for all years\n",
        "rates_07 = all_lc_data['int_rate'][all_lc_data['issue_year'] == 2007]\n",
        "rates_07.head()"
      ],
      "execution_count": 0,
      "outputs": [
        {
          "output_type": "execute_result",
          "data": {
            "text/plain": [
              "2139018    11.22\n",
              "2139020    10.59\n",
              "2139022     7.75\n",
              "2139023     7.43\n",
              "2139024     8.07\n",
              "Name: int_rate, dtype: float64"
            ]
          },
          "metadata": {
            "tags": []
          },
          "execution_count": 17
        }
      ]
    },
    {
      "cell_type": "code",
      "metadata": {
        "id": "vaOQiyl_xdhQ",
        "colab_type": "code",
        "colab": {}
      },
      "source": [
        "rates_08 = all_lc_data['int_rate'][all_lc_data['issue_year'] == 2008]\n",
        "rates_09 = all_lc_data['int_rate'][all_lc_data['issue_year'] == 2009]\n",
        "rates_10 = all_lc_data['int_rate'][all_lc_data['issue_year'] == 2010]\n",
        "rates_11 = all_lc_data['int_rate'][all_lc_data['issue_year'] == 2011]\n",
        "rates_12 = all_lc_data['int_rate'][all_lc_data['issue_year'] == 2012]\n",
        "rates_13 = all_lc_data['int_rate'][all_lc_data['issue_year'] == 2013]\n",
        "rates_14 = all_lc_data['int_rate'][all_lc_data['issue_year'] == 2014]\n",
        "rates_15 = all_lc_data['int_rate'][all_lc_data['issue_year'] == 2015]\n",
        "rates_16 = all_lc_data['int_rate'][all_lc_data['issue_year'] == 2016]\n",
        "rates_17 = all_lc_data['int_rate'][all_lc_data['issue_year'] == 2017]\n",
        "rates_18 = all_lc_data['int_rate'][all_lc_data['issue_year'] == 2018]"
      ],
      "execution_count": 0,
      "outputs": []
    },
    {
      "cell_type": "code",
      "metadata": {
        "id": "mgkPOI-ixzZp",
        "colab_type": "code",
        "outputId": "afbb8aa6-be75-4672-c05b-5a91e956a4ed",
        "colab": {
          "base_uri": "https://localhost:8080/",
          "height": 51
        }
      },
      "source": [
        "# find and store median, mean, min, and max interest rates for all years\n",
        "rate_medians = [rates_07.median(), rates_08.median(), rates_09.median(), rates_10.median(), rates_11.median(), rates_12.median(), rates_13.median(), rates_14.median(), rates_15.median(), rates_16.median(), rates_17.median(), rates_18.median()]\n",
        "print(rate_medians)\n",
        "print(len(rate_medians))"
      ],
      "execution_count": 0,
      "outputs": [
        {
          "output_type": "stream",
          "text": [
            "[11.54, 11.91, 12.53, 11.86, 11.99, 13.67, 14.33, 13.65, 12.29, 11.99, 12.62, 11.8]\n",
            "12\n"
          ],
          "name": "stdout"
        }
      ]
    },
    {
      "cell_type": "code",
      "metadata": {
        "id": "dDuU7H4Lz_8Q",
        "colab_type": "code",
        "outputId": "640f2235-e616-415e-ede7-a74b32d73980",
        "colab": {
          "base_uri": "https://localhost:8080/",
          "height": 54
        }
      },
      "source": [
        "rate_means = [rates_07.mean(), rates_08.mean(), rates_09.mean(), rates_10.mean(), rates_11.mean(), rates_12.mean(), rates_13.mean(), rates_14.mean(), rates_15.mean(), rates_16.mean(), rates_17.mean(), rates_18.mean()]\n",
        "print(rate_means)"
      ],
      "execution_count": 0,
      "outputs": [
        {
          "output_type": "stream",
          "text": [
            "[11.825107794361525, 12.061964061847076, 12.437246733573073, 11.98526760788084, 12.223365406748053, 13.637787209326653, 14.531892310895982, 13.769465303521988, 12.59933045990352, 13.0416989598021, 13.244324798976617, 12.729271729782955]\n"
          ],
          "name": "stdout"
        }
      ]
    },
    {
      "cell_type": "code",
      "metadata": {
        "id": "sbkr88LU0YWG",
        "colab_type": "code",
        "outputId": "79486e38-29ec-4282-946e-5ece91cfad79",
        "colab": {
          "base_uri": "https://localhost:8080/",
          "height": 34
        }
      },
      "source": [
        "rate_mins = [rates_07.min(), rates_08.min(), rates_09.min(), rates_10.min(), rates_11.min(), rates_12.min(), rates_13.min(), rates_14.min(), rates_15.min(), rates_16.min(), rates_17.min(), rates_18.min()]\n",
        "print(rate_mins)"
      ],
      "execution_count": 0,
      "outputs": [
        {
          "output_type": "stream",
          "text": [
            "[7.12, 6.0, 6.0, 5.42, 5.42, 6.0, 6.0, 6.0, 5.32, 5.32, 5.32, 5.31]\n"
          ],
          "name": "stdout"
        }
      ]
    },
    {
      "cell_type": "code",
      "metadata": {
        "id": "4bEDOTAd0-aa",
        "colab_type": "code",
        "outputId": "b63491a6-e79a-4da4-f663-68907810d82b",
        "colab": {
          "base_uri": "https://localhost:8080/",
          "height": 34
        }
      },
      "source": [
        "rate_maxes = [rates_07.max(), rates_08.max(), rates_09.max(), rates_10.max(), rates_11.max(), rates_12.max(), rates_13.max(), rates_14.max(), rates_15.max(), rates_16.max(), rates_17.max(), rates_18.max()]\n",
        "print(rate_maxes)"
      ],
      "execution_count": 0,
      "outputs": [
        {
          "output_type": "stream",
          "text": [
            "[17.86, 19.47, 21.21, 21.64, 24.59, 24.89, 26.06, 26.06, 28.99, 30.99, 30.99, 30.99]\n"
          ],
          "name": "stdout"
        }
      ]
    },
    {
      "cell_type": "code",
      "metadata": {
        "id": "KhjP8gRB3NHw",
        "colab_type": "code",
        "outputId": "cbb93481-95c2-445c-9c2f-e10ee673f9f9",
        "colab": {
          "base_uri": "https://localhost:8080/",
          "height": 34
        }
      },
      "source": [
        "loan_issue_years = []\n",
        "value_types = []\n",
        "interest_rates_all_types = []\n",
        "\n",
        "for y in range(2007, 2019):\n",
        "  loan_issue_years.append(y)\n",
        "\n",
        "loan_issue_years *= 4\n",
        "value_types = ['median'] * 12\n",
        "value_types.extend(['mean'] * 12)\n",
        "value_types.extend(['min'] * 12)\n",
        "value_types.extend(['max'] * 12)\n",
        "interest_rates_all_types.extend(rate_medians)\n",
        "interest_rates_all_types.extend(rate_means)\n",
        "interest_rates_all_types.extend(rate_mins)\n",
        "interest_rates_all_types.extend(rate_maxes)\n",
        "\n",
        "print(len(loan_issue_years), len(value_types), len(interest_rates_all_types))"
      ],
      "execution_count": 0,
      "outputs": [
        {
          "output_type": "stream",
          "text": [
            "48 48 48\n"
          ],
          "name": "stdout"
        }
      ]
    },
    {
      "cell_type": "code",
      "metadata": {
        "id": "qRz5cqdn6gdv",
        "colab_type": "code",
        "outputId": "9d5d8359-1bd4-4386-9ee7-b5bde796e2f3",
        "colab": {
          "base_uri": "https://localhost:8080/",
          "height": 1000
        }
      },
      "source": [
        "# set up dataframe for easy plotting\n",
        "new_framedict = {'Issue_Year': loan_issue_years, 'value_type': value_types, 'Interest_Rate': interest_rates_all_types}\n",
        "frame_to_plot = pd.DataFrame(new_framedict, columns=['Issue_Year', 'value_type', 'Interest_Rate'])\n",
        "frame_to_plot"
      ],
      "execution_count": 0,
      "outputs": [
        {
          "output_type": "execute_result",
          "data": {
            "text/html": [
              "<div>\n",
              "<style scoped>\n",
              "    .dataframe tbody tr th:only-of-type {\n",
              "        vertical-align: middle;\n",
              "    }\n",
              "\n",
              "    .dataframe tbody tr th {\n",
              "        vertical-align: top;\n",
              "    }\n",
              "\n",
              "    .dataframe thead th {\n",
              "        text-align: right;\n",
              "    }\n",
              "</style>\n",
              "<table border=\"1\" class=\"dataframe\">\n",
              "  <thead>\n",
              "    <tr style=\"text-align: right;\">\n",
              "      <th></th>\n",
              "      <th>Issue_Year</th>\n",
              "      <th>value_type</th>\n",
              "      <th>Interest_Rate</th>\n",
              "    </tr>\n",
              "  </thead>\n",
              "  <tbody>\n",
              "    <tr>\n",
              "      <th>0</th>\n",
              "      <td>2007</td>\n",
              "      <td>median</td>\n",
              "      <td>11.540000</td>\n",
              "    </tr>\n",
              "    <tr>\n",
              "      <th>1</th>\n",
              "      <td>2008</td>\n",
              "      <td>median</td>\n",
              "      <td>11.910000</td>\n",
              "    </tr>\n",
              "    <tr>\n",
              "      <th>2</th>\n",
              "      <td>2009</td>\n",
              "      <td>median</td>\n",
              "      <td>12.530000</td>\n",
              "    </tr>\n",
              "    <tr>\n",
              "      <th>3</th>\n",
              "      <td>2010</td>\n",
              "      <td>median</td>\n",
              "      <td>11.860000</td>\n",
              "    </tr>\n",
              "    <tr>\n",
              "      <th>4</th>\n",
              "      <td>2011</td>\n",
              "      <td>median</td>\n",
              "      <td>11.990000</td>\n",
              "    </tr>\n",
              "    <tr>\n",
              "      <th>5</th>\n",
              "      <td>2012</td>\n",
              "      <td>median</td>\n",
              "      <td>13.670000</td>\n",
              "    </tr>\n",
              "    <tr>\n",
              "      <th>6</th>\n",
              "      <td>2013</td>\n",
              "      <td>median</td>\n",
              "      <td>14.330000</td>\n",
              "    </tr>\n",
              "    <tr>\n",
              "      <th>7</th>\n",
              "      <td>2014</td>\n",
              "      <td>median</td>\n",
              "      <td>13.650000</td>\n",
              "    </tr>\n",
              "    <tr>\n",
              "      <th>8</th>\n",
              "      <td>2015</td>\n",
              "      <td>median</td>\n",
              "      <td>12.290000</td>\n",
              "    </tr>\n",
              "    <tr>\n",
              "      <th>9</th>\n",
              "      <td>2016</td>\n",
              "      <td>median</td>\n",
              "      <td>11.990000</td>\n",
              "    </tr>\n",
              "    <tr>\n",
              "      <th>10</th>\n",
              "      <td>2017</td>\n",
              "      <td>median</td>\n",
              "      <td>12.620000</td>\n",
              "    </tr>\n",
              "    <tr>\n",
              "      <th>11</th>\n",
              "      <td>2018</td>\n",
              "      <td>median</td>\n",
              "      <td>11.800000</td>\n",
              "    </tr>\n",
              "    <tr>\n",
              "      <th>12</th>\n",
              "      <td>2007</td>\n",
              "      <td>mean</td>\n",
              "      <td>11.825108</td>\n",
              "    </tr>\n",
              "    <tr>\n",
              "      <th>13</th>\n",
              "      <td>2008</td>\n",
              "      <td>mean</td>\n",
              "      <td>12.061964</td>\n",
              "    </tr>\n",
              "    <tr>\n",
              "      <th>14</th>\n",
              "      <td>2009</td>\n",
              "      <td>mean</td>\n",
              "      <td>12.437247</td>\n",
              "    </tr>\n",
              "    <tr>\n",
              "      <th>15</th>\n",
              "      <td>2010</td>\n",
              "      <td>mean</td>\n",
              "      <td>11.985268</td>\n",
              "    </tr>\n",
              "    <tr>\n",
              "      <th>16</th>\n",
              "      <td>2011</td>\n",
              "      <td>mean</td>\n",
              "      <td>12.223365</td>\n",
              "    </tr>\n",
              "    <tr>\n",
              "      <th>17</th>\n",
              "      <td>2012</td>\n",
              "      <td>mean</td>\n",
              "      <td>13.637787</td>\n",
              "    </tr>\n",
              "    <tr>\n",
              "      <th>18</th>\n",
              "      <td>2013</td>\n",
              "      <td>mean</td>\n",
              "      <td>14.531892</td>\n",
              "    </tr>\n",
              "    <tr>\n",
              "      <th>19</th>\n",
              "      <td>2014</td>\n",
              "      <td>mean</td>\n",
              "      <td>13.769465</td>\n",
              "    </tr>\n",
              "    <tr>\n",
              "      <th>20</th>\n",
              "      <td>2015</td>\n",
              "      <td>mean</td>\n",
              "      <td>12.599330</td>\n",
              "    </tr>\n",
              "    <tr>\n",
              "      <th>21</th>\n",
              "      <td>2016</td>\n",
              "      <td>mean</td>\n",
              "      <td>13.041699</td>\n",
              "    </tr>\n",
              "    <tr>\n",
              "      <th>22</th>\n",
              "      <td>2017</td>\n",
              "      <td>mean</td>\n",
              "      <td>13.244325</td>\n",
              "    </tr>\n",
              "    <tr>\n",
              "      <th>23</th>\n",
              "      <td>2018</td>\n",
              "      <td>mean</td>\n",
              "      <td>12.729272</td>\n",
              "    </tr>\n",
              "    <tr>\n",
              "      <th>24</th>\n",
              "      <td>2007</td>\n",
              "      <td>min</td>\n",
              "      <td>7.120000</td>\n",
              "    </tr>\n",
              "    <tr>\n",
              "      <th>25</th>\n",
              "      <td>2008</td>\n",
              "      <td>min</td>\n",
              "      <td>6.000000</td>\n",
              "    </tr>\n",
              "    <tr>\n",
              "      <th>26</th>\n",
              "      <td>2009</td>\n",
              "      <td>min</td>\n",
              "      <td>6.000000</td>\n",
              "    </tr>\n",
              "    <tr>\n",
              "      <th>27</th>\n",
              "      <td>2010</td>\n",
              "      <td>min</td>\n",
              "      <td>5.420000</td>\n",
              "    </tr>\n",
              "    <tr>\n",
              "      <th>28</th>\n",
              "      <td>2011</td>\n",
              "      <td>min</td>\n",
              "      <td>5.420000</td>\n",
              "    </tr>\n",
              "    <tr>\n",
              "      <th>29</th>\n",
              "      <td>2012</td>\n",
              "      <td>min</td>\n",
              "      <td>6.000000</td>\n",
              "    </tr>\n",
              "    <tr>\n",
              "      <th>30</th>\n",
              "      <td>2013</td>\n",
              "      <td>min</td>\n",
              "      <td>6.000000</td>\n",
              "    </tr>\n",
              "    <tr>\n",
              "      <th>31</th>\n",
              "      <td>2014</td>\n",
              "      <td>min</td>\n",
              "      <td>6.000000</td>\n",
              "    </tr>\n",
              "    <tr>\n",
              "      <th>32</th>\n",
              "      <td>2015</td>\n",
              "      <td>min</td>\n",
              "      <td>5.320000</td>\n",
              "    </tr>\n",
              "    <tr>\n",
              "      <th>33</th>\n",
              "      <td>2016</td>\n",
              "      <td>min</td>\n",
              "      <td>5.320000</td>\n",
              "    </tr>\n",
              "    <tr>\n",
              "      <th>34</th>\n",
              "      <td>2017</td>\n",
              "      <td>min</td>\n",
              "      <td>5.320000</td>\n",
              "    </tr>\n",
              "    <tr>\n",
              "      <th>35</th>\n",
              "      <td>2018</td>\n",
              "      <td>min</td>\n",
              "      <td>5.310000</td>\n",
              "    </tr>\n",
              "    <tr>\n",
              "      <th>36</th>\n",
              "      <td>2007</td>\n",
              "      <td>max</td>\n",
              "      <td>17.860000</td>\n",
              "    </tr>\n",
              "    <tr>\n",
              "      <th>37</th>\n",
              "      <td>2008</td>\n",
              "      <td>max</td>\n",
              "      <td>19.470000</td>\n",
              "    </tr>\n",
              "    <tr>\n",
              "      <th>38</th>\n",
              "      <td>2009</td>\n",
              "      <td>max</td>\n",
              "      <td>21.210000</td>\n",
              "    </tr>\n",
              "    <tr>\n",
              "      <th>39</th>\n",
              "      <td>2010</td>\n",
              "      <td>max</td>\n",
              "      <td>21.640000</td>\n",
              "    </tr>\n",
              "    <tr>\n",
              "      <th>40</th>\n",
              "      <td>2011</td>\n",
              "      <td>max</td>\n",
              "      <td>24.590000</td>\n",
              "    </tr>\n",
              "    <tr>\n",
              "      <th>41</th>\n",
              "      <td>2012</td>\n",
              "      <td>max</td>\n",
              "      <td>24.890000</td>\n",
              "    </tr>\n",
              "    <tr>\n",
              "      <th>42</th>\n",
              "      <td>2013</td>\n",
              "      <td>max</td>\n",
              "      <td>26.060000</td>\n",
              "    </tr>\n",
              "    <tr>\n",
              "      <th>43</th>\n",
              "      <td>2014</td>\n",
              "      <td>max</td>\n",
              "      <td>26.060000</td>\n",
              "    </tr>\n",
              "    <tr>\n",
              "      <th>44</th>\n",
              "      <td>2015</td>\n",
              "      <td>max</td>\n",
              "      <td>28.990000</td>\n",
              "    </tr>\n",
              "    <tr>\n",
              "      <th>45</th>\n",
              "      <td>2016</td>\n",
              "      <td>max</td>\n",
              "      <td>30.990000</td>\n",
              "    </tr>\n",
              "    <tr>\n",
              "      <th>46</th>\n",
              "      <td>2017</td>\n",
              "      <td>max</td>\n",
              "      <td>30.990000</td>\n",
              "    </tr>\n",
              "    <tr>\n",
              "      <th>47</th>\n",
              "      <td>2018</td>\n",
              "      <td>max</td>\n",
              "      <td>30.990000</td>\n",
              "    </tr>\n",
              "  </tbody>\n",
              "</table>\n",
              "</div>"
            ],
            "text/plain": [
              "    Issue_Year value_type  Interest_Rate\n",
              "0         2007     median      11.540000\n",
              "1         2008     median      11.910000\n",
              "2         2009     median      12.530000\n",
              "3         2010     median      11.860000\n",
              "4         2011     median      11.990000\n",
              "5         2012     median      13.670000\n",
              "6         2013     median      14.330000\n",
              "7         2014     median      13.650000\n",
              "8         2015     median      12.290000\n",
              "9         2016     median      11.990000\n",
              "10        2017     median      12.620000\n",
              "11        2018     median      11.800000\n",
              "12        2007       mean      11.825108\n",
              "13        2008       mean      12.061964\n",
              "14        2009       mean      12.437247\n",
              "15        2010       mean      11.985268\n",
              "16        2011       mean      12.223365\n",
              "17        2012       mean      13.637787\n",
              "18        2013       mean      14.531892\n",
              "19        2014       mean      13.769465\n",
              "20        2015       mean      12.599330\n",
              "21        2016       mean      13.041699\n",
              "22        2017       mean      13.244325\n",
              "23        2018       mean      12.729272\n",
              "24        2007        min       7.120000\n",
              "25        2008        min       6.000000\n",
              "26        2009        min       6.000000\n",
              "27        2010        min       5.420000\n",
              "28        2011        min       5.420000\n",
              "29        2012        min       6.000000\n",
              "30        2013        min       6.000000\n",
              "31        2014        min       6.000000\n",
              "32        2015        min       5.320000\n",
              "33        2016        min       5.320000\n",
              "34        2017        min       5.320000\n",
              "35        2018        min       5.310000\n",
              "36        2007        max      17.860000\n",
              "37        2008        max      19.470000\n",
              "38        2009        max      21.210000\n",
              "39        2010        max      21.640000\n",
              "40        2011        max      24.590000\n",
              "41        2012        max      24.890000\n",
              "42        2013        max      26.060000\n",
              "43        2014        max      26.060000\n",
              "44        2015        max      28.990000\n",
              "45        2016        max      30.990000\n",
              "46        2017        max      30.990000\n",
              "47        2018        max      30.990000"
            ]
          },
          "metadata": {
            "tags": []
          },
          "execution_count": 54
        }
      ]
    },
    {
      "cell_type": "code",
      "metadata": {
        "id": "Cfnd7Q5598VP",
        "colab_type": "code",
        "outputId": "03749fb4-c042-4793-8636-4bbbb78c248d",
        "colab": {
          "base_uri": "https://localhost:8080/",
          "height": 622
        }
      },
      "source": [
        "plt.figure(figsize=(12, 10))\n",
        "sns.lineplot(x='Issue_Year', y='Interest_Rate', hue='value_type', data=frame_to_plot)\n",
        "plt.title('LC Interest Rates Over Time, 2007-2018')\n",
        "plt.show()"
      ],
      "execution_count": 0,
      "outputs": [
        {
          "output_type": "display_data",
          "data": {
            "image/png": "[encoded data removed]",
            "text/plain": [
              "<Figure size 864x720 with 1 Axes>"
            ]
          },
          "metadata": {
            "tags": [],
            "needs_background": "light"
          }
        }
      ]
    },
    {
      "cell_type": "code",
      "metadata": {
        "id": "rvnaCUqkJO8z",
        "colab_type": "code",
        "outputId": "fb221aad-a6a4-44a9-a645-2364e02e5e6a",
        "colab": {
          "base_uri": "https://localhost:8080/",
          "height": 187
        }
      },
      "source": [
        "all_lc_data['loan_status'].value_counts()"
      ],
      "execution_count": 0,
      "outputs": [
        {
          "output_type": "execute_result",
          "data": {
            "text/plain": [
              "Fully Paid                                             1041952\n",
              "Current                                                 919695\n",
              "Charged Off                                             261655\n",
              "Late (31-120 days)                                       21897\n",
              "In Grace Period                                           8952\n",
              "Late (16-30 days)                                         3737\n",
              "Does not meet the credit policy. Status:Fully Paid        1988\n",
              "Does not meet the credit policy. Status:Charged Off        761\n",
              "Default                                                     31\n",
              "Name: loan_status, dtype: int64"
            ]
          },
          "metadata": {
            "tags": []
          },
          "execution_count": 67
        }
      ]
    },
    {
      "cell_type": "code",
      "metadata": {
        "id": "AFckZOvTMI31",
        "colab_type": "code",
        "outputId": "01aa20c5-fa64-4dfb-b736-d543e6379bdd",
        "colab": {
          "base_uri": "https://localhost:8080/",
          "height": 901
        }
      },
      "source": [
        "# total number of loans per state\n",
        "all_lc_data['addr_state'].value_counts()"
      ],
      "execution_count": 0,
      "outputs": [
        {
          "output_type": "execute_result",
          "data": {
            "text/plain": [
              "CA    314533\n",
              "NY    186389\n",
              "TX    186335\n",
              "FL    161991\n",
              "IL     91173\n",
              "NJ     83132\n",
              "PA     76939\n",
              "OH     75132\n",
              "GA     74196\n",
              "VA     62954\n",
              "NC     62730\n",
              "MI     58770\n",
              "MD     54008\n",
              "AZ     53777\n",
              "MA     51784\n",
              "CO     48183\n",
              "WA     47060\n",
              "MN     39517\n",
              "IN     37515\n",
              "MO     36084\n",
              "CT     35785\n",
              "TN     35483\n",
              "NV     32657\n",
              "WI     29877\n",
              "SC     28003\n",
              "AL     27284\n",
              "OR     26789\n",
              "LA     25759\n",
              "KY     21887\n",
              "OK     20691\n",
              "KS     19109\n",
              "AR     17074\n",
              "UT     14993\n",
              "MS     12639\n",
              "NM     11986\n",
              "NH     11142\n",
              "HI     10668\n",
              "RI     10005\n",
              "WV      8351\n",
              "NE      7819\n",
              "DE      6458\n",
              "MT      6299\n",
              "DC      5356\n",
              "AK      5231\n",
              "ME      4974\n",
              "VT      4937\n",
              "WY      4748\n",
              "SD      4549\n",
              "ID      4308\n",
              "ND      3591\n",
              "IA        14\n",
              "Name: addr_state, dtype: int64"
            ]
          },
          "metadata": {
            "tags": []
          },
          "execution_count": 68
        }
      ]
    },
    {
      "cell_type": "code",
      "metadata": {
        "id": "S-iXxA2hNUVJ",
        "colab_type": "code",
        "outputId": "aad946c7-619c-471f-8cef-61a38e3764fd",
        "colab": {
          "base_uri": "https://localhost:8080/",
          "height": 54
        }
      },
      "source": [
        "def build_dict(val_counts):\n",
        "  all_keys = val_counts.keys().tolist()\n",
        "  all_values = val_counts.tolist()\n",
        "  dict_to_fill = {}\n",
        "\n",
        "  for i in range(len(all_keys)):\n",
        "    curr_key = all_keys[i]\n",
        "    if not curr_key in dict_to_fill:\n",
        "      dict_to_fill[curr_key] = all_values[i]\n",
        "\n",
        "  return dict_to_fill\n",
        "\n",
        "# build dictionary of states and total number of loans in each state\n",
        "loans_by_state = build_dict(all_lc_data['addr_state'].value_counts())\n",
        "\n",
        "print(loans_by_state)"
      ],
      "execution_count": 0,
      "outputs": [
        {
          "output_type": "stream",
          "text": [
            "{'CA': 314533, 'NY': 186389, 'TX': 186335, 'FL': 161991, 'IL': 91173, 'NJ': 83132, 'PA': 76939, 'OH': 75132, 'GA': 74196, 'VA': 62954, 'NC': 62730, 'MI': 58770, 'MD': 54008, 'AZ': 53777, 'MA': 51784, 'CO': 48183, 'WA': 47060, 'MN': 39517, 'IN': 37515, 'MO': 36084, 'CT': 35785, 'TN': 35483, 'NV': 32657, 'WI': 29877, 'SC': 28003, 'AL': 27284, 'OR': 26789, 'LA': 25759, 'KY': 21887, 'OK': 20691, 'KS': 19109, 'AR': 17074, 'UT': 14993, 'MS': 12639, 'NM': 11986, 'NH': 11142, 'HI': 10668, 'RI': 10005, 'WV': 8351, 'NE': 7819, 'DE': 6458, 'MT': 6299, 'DC': 5356, 'AK': 5231, 'ME': 4974, 'VT': 4937, 'WY': 4748, 'SD': 4549, 'ID': 4308, 'ND': 3591, 'IA': 14}\n"
          ],
          "name": "stdout"
        }
      ]
    },
    {
      "cell_type": "code",
      "metadata": {
        "id": "K_199mTxVuoR",
        "colab_type": "code",
        "outputId": "9fdbd466-886a-4d72-f1f1-51ca1d5a488f",
        "colab": {
          "base_uri": "https://localhost:8080/",
          "height": 88
        }
      },
      "source": [
        "# select loans not likely to be repaid\n",
        "all_chargedoff = all_lc_data[all_lc_data['loan_status'] == 'Charged Off']\n",
        "all_defaulted = all_lc_data[all_lc_data['loan_status'] == 'Default']\n",
        "more_chargedoff = all_lc_data[all_lc_data['loan_status'] == 'Does not meet the credit policy. Status:Charged Off']\n",
        "\n",
        "# build dictionary of states and number of bad loans in each state\n",
        "chargedoff_bystate = all_chargedoff['addr_state'].value_counts()\n",
        "defaulted_bystate = all_defaulted['addr_state'].value_counts()\n",
        "more_chargedoff_bystate = more_chargedoff['addr_state'].value_counts()\n",
        "# start with charged off loans\n",
        "bad_loans_by_state = build_dict(chargedoff_bystate)\n",
        "print(bad_loans_by_state)\n",
        "\n",
        "defaults_by_state = build_dict(defaulted_bystate)\n",
        "addtl_chargedoff = build_dict(more_chargedoff_bystate)\n",
        "print(defaults_by_state)\n",
        "print(addtl_chargedoff)"
      ],
      "execution_count": 0,
      "outputs": [
        {
          "output_type": "stream",
          "text": [
            "{'CA': 37653, 'NY': 23559, 'TX': 21241, 'FL': 19970, 'NJ': 9973, 'PA': 9212, 'IL': 9120, 'OH': 8830, 'GA': 7743, 'NC': 7668, 'VA': 7379, 'MI': 6950, 'MD': 6450, 'AZ': 6241, 'MA': 5735, 'MN': 4634, 'IN': 4541, 'WA': 4506, 'CO': 4500, 'MO': 4404, 'NV': 4334, 'TN': 4247, 'AL': 3828, 'LA': 3516, 'CT': 3334, 'WI': 3139, 'OK': 2809, 'KY': 2623, 'SC': 2550, 'AR': 2346, 'OR': 2299, 'KS': 1826, 'UT': 1681, 'MS': 1655, 'NM': 1542, 'HI': 1333, 'RI': 1025, 'NH': 911, 'NE': 870, 'WV': 752, 'DE': 741, 'MT': 628, 'AK': 617, 'SD': 572, 'WY': 481, 'DC': 442, 'VT': 361, 'ND': 315, 'ID': 301, 'ME': 267, 'IA': 1}\n",
            "{'CA': 4, 'TX': 4, 'NY': 3, 'IL': 3, 'MD': 2, 'IN': 2, 'OH': 2, 'CO': 1, 'FL': 1, 'WA': 1, 'NJ': 1, 'MN': 1, 'ME': 1, 'KY': 1, 'GA': 1, 'WI': 1, 'AL': 1, 'TN': 1}\n",
            "{'CA': 101, 'FL': 72, 'NY': 57, 'TX': 55, 'PA': 43, 'IL': 36, 'GA': 35, 'NJ': 26, 'MO': 26, 'MA': 24, 'MD': 23, 'MI': 19, 'OH': 18, 'AZ': 18, 'NV': 16, 'VA': 16, 'WA': 16, 'WI': 14, 'CO': 13, 'CT': 12, 'NC': 12, 'MN': 11, 'KY': 10, 'AL': 8, 'IN': 7, 'AR': 6, 'MT': 6, 'OR': 6, 'UT': 5, 'LA': 5, 'KS': 5, 'DE': 4, 'TN': 4, 'SC': 4, 'MS': 4, 'NE': 3, 'OK': 3, 'NM': 3, 'NH': 2, 'HI': 2, 'RI': 2, 'DC': 2, 'IA': 2, 'WV': 2, 'AK': 1, 'VT': 1, 'SD': 1}\n"
          ],
          "name": "stdout"
        }
      ]
    },
    {
      "cell_type": "code",
      "metadata": {
        "id": "rzMglt76i3eM",
        "colab_type": "code",
        "outputId": "e10a5d58-cffa-400e-c647-8ee1d2eb5d8d",
        "colab": {
          "base_uri": "https://localhost:8080/",
          "height": 71
        }
      },
      "source": [
        "def add_to_dict(first_dict, dict_to_add):\n",
        "  for st in dict_to_add.keys():\n",
        "    if st in first_dict:\n",
        "      first_dict[st] += dict_to_add[st]\n",
        "\n",
        "add_to_dict(bad_loans_by_state, defaults_by_state)\n",
        "print(bad_loans_by_state)\n",
        "add_to_dict(bad_loans_by_state, addtl_chargedoff)\n",
        "print(bad_loans_by_state)"
      ],
      "execution_count": 0,
      "outputs": [
        {
          "output_type": "stream",
          "text": [
            "{'CA': 37661, 'NY': 23565, 'TX': 21249, 'FL': 19972, 'NJ': 9975, 'PA': 9212, 'IL': 9126, 'OH': 8834, 'GA': 7745, 'NC': 7668, 'VA': 7379, 'MI': 6950, 'MD': 6454, 'AZ': 6241, 'MA': 5735, 'MN': 4636, 'IN': 4545, 'WA': 4508, 'CO': 4502, 'MO': 4404, 'NV': 4334, 'TN': 4249, 'AL': 3830, 'LA': 3516, 'CT': 3334, 'WI': 3141, 'OK': 2809, 'KY': 2625, 'SC': 2550, 'AR': 2346, 'OR': 2299, 'KS': 1826, 'UT': 1681, 'MS': 1655, 'NM': 1542, 'HI': 1333, 'RI': 1025, 'NH': 911, 'NE': 870, 'WV': 752, 'DE': 741, 'MT': 628, 'AK': 617, 'SD': 572, 'WY': 481, 'DC': 442, 'VT': 361, 'ND': 315, 'ID': 301, 'ME': 269, 'IA': 1}\n",
            "{'CA': 37762, 'NY': 23622, 'TX': 21304, 'FL': 20044, 'NJ': 10001, 'PA': 9255, 'IL': 9162, 'OH': 8852, 'GA': 7780, 'NC': 7680, 'VA': 7395, 'MI': 6969, 'MD': 6477, 'AZ': 6259, 'MA': 5759, 'MN': 4647, 'IN': 4552, 'WA': 4524, 'CO': 4515, 'MO': 4430, 'NV': 4350, 'TN': 4253, 'AL': 3838, 'LA': 3521, 'CT': 3346, 'WI': 3155, 'OK': 2812, 'KY': 2635, 'SC': 2554, 'AR': 2352, 'OR': 2305, 'KS': 1831, 'UT': 1686, 'MS': 1659, 'NM': 1545, 'HI': 1335, 'RI': 1027, 'NH': 913, 'NE': 873, 'WV': 754, 'DE': 745, 'MT': 634, 'AK': 618, 'SD': 573, 'WY': 481, 'DC': 444, 'VT': 362, 'ND': 315, 'ID': 301, 'ME': 269, 'IA': 3}\n"
          ],
          "name": "stdout"
        }
      ]
    },
    {
      "cell_type": "code",
      "metadata": {
        "id": "rE4UVWoHkttE",
        "colab_type": "code",
        "outputId": "d2c7c608-b25e-41c9-8ada-4b784c4bb7fe",
        "colab": {
          "base_uri": "https://localhost:8080/",
          "height": 54
        }
      },
      "source": [
        "# now that we have the number of bad loans and total number of loans for each state,\n",
        "# we divide to get the percentage\n",
        "percent_bad_by_state = dict(bad_loans_by_state)\n",
        "for k in loans_by_state.keys():\n",
        "  if k in percent_bad_by_state:\n",
        "    percent_bad_by_state[k] = percent_bad_by_state[k] / loans_by_state[k]\n",
        "\n",
        "print(percent_bad_by_state)"
      ],
      "execution_count": 0,
      "outputs": [
        {
          "output_type": "stream",
          "text": [
            "{'CA': 0.12005735487214378, 'NY': 0.1267349468048007, 'TX': 0.11433171438538117, 'FL': 0.12373526924335303, 'NJ': 0.12030265120531203, 'PA': 0.12029009994931049, 'IL': 0.1004902767266625, 'OH': 0.11781930469041155, 'GA': 0.10485740471184431, 'NC': 0.12242945958871354, 'VA': 0.1174667217333291, 'MI': 0.11858090862685043, 'MD': 0.11992667752925493, 'AZ': 0.1163880469345631, 'MA': 0.11121195736134713, 'MN': 0.11759495913151302, 'IN': 0.12133813141410103, 'WA': 0.09613259668508287, 'CO': 0.09370524873918187, 'MO': 0.12276909433543953, 'NV': 0.13320268242643232, 'TN': 0.1198602147507257, 'AL': 0.14066852367688024, 'LA': 0.13669008890096665, 'CT': 0.09350286432862931, 'WI': 0.10559962512969844, 'OK': 0.13590449954086317, 'KY': 0.12039109973957143, 'SC': 0.09120451380209263, 'AR': 0.13775330912498535, 'OR': 0.08604277875247303, 'KS': 0.09581872416138992, 'UT': 0.11245247782298406, 'MS': 0.13126038452409208, 'NM': 0.12890038378107793, 'HI': 0.125140607424072, 'RI': 0.10264867566216891, 'NH': 0.08194220068210376, 'NE': 0.11165110627957539, 'WV': 0.09028858819303077, 'DE': 0.11536079281511304, 'MT': 0.10065089696777266, 'AK': 0.11814184668323456, 'SD': 0.1259617498351286, 'WY': 0.10130581297388375, 'DC': 0.08289768483943241, 'VT': 0.07332388089933158, 'ND': 0.08771929824561403, 'ID': 0.06987000928505106, 'ME': 0.05408122235625251, 'IA': 0.21428571428571427}\n"
          ],
          "name": "stdout"
        }
      ]
    },
    {
      "cell_type": "code",
      "metadata": {
        "id": "HXGbU7MpmFWn",
        "colab_type": "code",
        "outputId": "f83b545d-134a-4b69-8173-59cb73fbe532",
        "colab": {
          "base_uri": "https://localhost:8080/",
          "height": 204
        }
      },
      "source": [
        "states_final = list(percent_bad_by_state.keys())\n",
        "values_final = list(percent_bad_by_state.values())\n",
        "\n",
        "new_plotdict = {'State': states_final, 'Percent Loans Uncollectible': values_final}\n",
        "new_to_plot = pd.DataFrame(new_plotdict, columns=['State', 'Percent Loans Uncollectible'])\n",
        "new_to_plot.head()"
      ],
      "execution_count": 0,
      "outputs": [
        {
          "output_type": "execute_result",
          "data": {
            "text/html": [
              "<div>\n",
              "<style scoped>\n",
              "    .dataframe tbody tr th:only-of-type {\n",
              "        vertical-align: middle;\n",
              "    }\n",
              "\n",
              "    .dataframe tbody tr th {\n",
              "        vertical-align: top;\n",
              "    }\n",
              "\n",
              "    .dataframe thead th {\n",
              "        text-align: right;\n",
              "    }\n",
              "</style>\n",
              "<table border=\"1\" class=\"dataframe\">\n",
              "  <thead>\n",
              "    <tr style=\"text-align: right;\">\n",
              "      <th></th>\n",
              "      <th>State</th>\n",
              "      <th>Percent Loans Uncollectible</th>\n",
              "    </tr>\n",
              "  </thead>\n",
              "  <tbody>\n",
              "    <tr>\n",
              "      <th>0</th>\n",
              "      <td>CA</td>\n",
              "      <td>0.120057</td>\n",
              "    </tr>\n",
              "    <tr>\n",
              "      <th>1</th>\n",
              "      <td>NY</td>\n",
              "      <td>0.126735</td>\n",
              "    </tr>\n",
              "    <tr>\n",
              "      <th>2</th>\n",
              "      <td>TX</td>\n",
              "      <td>0.114332</td>\n",
              "    </tr>\n",
              "    <tr>\n",
              "      <th>3</th>\n",
              "      <td>FL</td>\n",
              "      <td>0.123735</td>\n",
              "    </tr>\n",
              "    <tr>\n",
              "      <th>4</th>\n",
              "      <td>NJ</td>\n",
              "      <td>0.120303</td>\n",
              "    </tr>\n",
              "  </tbody>\n",
              "</table>\n",
              "</div>"
            ],
            "text/plain": [
              "  State  Percent Loans Uncollectible\n",
              "0    CA                     0.120057\n",
              "1    NY                     0.126735\n",
              "2    TX                     0.114332\n",
              "3    FL                     0.123735\n",
              "4    NJ                     0.120303"
            ]
          },
          "metadata": {
            "tags": []
          },
          "execution_count": 104
        }
      ]
    },
    {
      "cell_type": "code",
      "metadata": {
        "id": "wD_fZmzbKegc",
        "colab_type": "code",
        "outputId": "21956828-69c7-4207-90c1-5faaa908a1c3",
        "colab": {
          "base_uri": "https://localhost:8080/",
          "height": 621
        }
      },
      "source": [
        "plt.figure(figsize=(15, 10))\n",
        "sns.barplot(x='State', y='Percent Loans Uncollectible', data=new_to_plot)\n",
        "plt.title('Bad Debt Frequency by State, All Time, 2007-2018')\n",
        "plt.show()"
      ],
      "execution_count": 0,
      "outputs": [
        {
          "output_type": "display_data",
          "data": {
            "image/png": "[encoded data removed]",
            "text/plain": [
              "<Figure size 1080x720 with 1 Axes>"
            ]
          },
          "metadata": {
            "tags": [],
            "needs_background": "light"
          }
        }
      ]
    },
    {
      "cell_type": "code",
      "metadata": {
        "id": "54qzf8HEp-f4",
        "colab_type": "code",
        "outputId": "15608744-6f3a-4308-ecbe-56ab64abe087",
        "colab": {
          "base_uri": "https://localhost:8080/",
          "height": 621
        }
      },
      "source": [
        "# sorted descending\n",
        "sorted_frame = new_to_plot.sort_values(by='Percent Loans Uncollectible', ascending=False)\n",
        "plt.figure(figsize=(15, 10))\n",
        "sns.barplot(x='State', y='Percent Loans Uncollectible', data=sorted_frame)\n",
        "plt.title('Bad Debt Frequency by State, sorted descending')\n",
        "plt.show()"
      ],
      "execution_count": 0,
      "outputs": [
        {
          "output_type": "display_data",
          "data": {
            "image/png": "[encoded data removed]",
            "text/plain": [
              "<Figure size 1080x720 with 1 Axes>"
            ]
          },
          "metadata": {
            "tags": [],
            "needs_background": "light"
          }
        }
      ]
    }
  ]
}